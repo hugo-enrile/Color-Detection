{
  "nbformat": 4,
  "nbformat_minor": 0,
  "metadata": {
    "colab": {
      "name": "ColorDetection.ipynb",
      "provenance": [],
      "collapsed_sections": [],
      "toc_visible": true
    },
    "kernelspec": {
      "name": "python3",
      "display_name": "Python 3"
    },
    "language_info": {
      "name": "python"
    },
    "accelerator": "GPU"
  },
  "cells": [
    {
      "cell_type": "markdown",
      "metadata": {
        "id": "1TWePMWAscKl"
      },
      "source": [
        "Notebook programmed to detect colors in images from different input sources. "
      ]
    },
    {
      "cell_type": "code",
      "metadata": {
        "id": "LBja9hTurSxV"
      },
      "source": [
        "import numpy as np\n",
        "import cv2\n",
        "from IPython.display import display, Javascript, Image\n",
        "from google.colab.output import eval_js\n",
        "from base64 import b64decode, b64encode\n",
        "from google.colab.patches import cv2_imshow"
      ],
      "execution_count": null,
      "outputs": []
    },
    {
      "cell_type": "markdown",
      "metadata": {
        "id": "VXX51A59t5g8"
      },
      "source": [
        "# Webcam's Module"
      ]
    },
    {
      "cell_type": "markdown",
      "metadata": {
        "id": "2b2LPT6kBO7b"
      },
      "source": [
        "## Helper Functions"
      ]
    },
    {
      "cell_type": "code",
      "metadata": {
        "id": "6amSzG4rBOCJ"
      },
      "source": [
        "# Function to convert JavaScript objects into OpenCV images\n",
        "def js_to_image(js_reply):\n",
        "\n",
        "  # Decode base64 image\n",
        "  image_bytes = b64decode(js_reply.split(',')[1])\n",
        "\n",
        "  # Convert bytes to numpy array\n",
        "  jpg_as_np = np.frombuffer(image_bytes, dtype = np.uint8)\n",
        "\n",
        "  # Decode numpy array into OpenCV BGR image\n",
        "  img = cv2.imdecode(jpg_as_np, flags = 1)\n",
        "\n",
        "  return img"
      ],
      "execution_count": null,
      "outputs": []
    },
    {
      "cell_type": "code",
      "metadata": {
        "id": "Ss8vaKQstRxy"
      },
      "source": [
        "def take_photo(filename='photo.jpg', quality=0.8):\n",
        "  js = Javascript('''\n",
        "    async function takePhoto(quality) {\n",
        "      const div = document.createElement('div');\n",
        "      const capture = document.createElement('button');\n",
        "      capture.textContent = 'Capture';\n",
        "      div.appendChild(capture);\n",
        "\n",
        "      const video = document.createElement('video');\n",
        "      video.style.display = 'block';\n",
        "      const stream = await navigator.mediaDevices.getUserMedia({video: true});\n",
        "\n",
        "      document.body.appendChild(div);\n",
        "      div.appendChild(video);\n",
        "      video.srcObject = stream;\n",
        "      await video.play();\n",
        "\n",
        "      // Resize the output to fit the video element.\n",
        "      google.colab.output.setIframeHeight(document.documentElement.scrollHeight, true);\n",
        "\n",
        "      // Wait for Capture to be clicked.\n",
        "      await new Promise((resolve) => capture.onclick = resolve);\n",
        "\n",
        "      const canvas = document.createElement('canvas');\n",
        "      canvas.width = video.videoWidth;\n",
        "      canvas.height = video.videoHeight;\n",
        "      canvas.getContext('2d').drawImage(video, 0, 0);\n",
        "      stream.getVideoTracks()[0].stop();\n",
        "      div.remove();\n",
        "      return canvas.toDataURL('image/jpeg', quality);\n",
        "    }\n",
        "    ''')\n",
        "  display(js)\n",
        "\n",
        "  data = eval_js('takePhoto({})'.format(quality))\n",
        "\n",
        "  # put data in opencv format\n",
        "  img = js_to_image(data)\n",
        "\n",
        "  # color detection\n",
        "  result = color_detection(img)\n",
        "\n",
        "  # save image\n",
        "  cv2.imwrite(filename, result)\n",
        "  \n",
        "  return filename"
      ],
      "execution_count": null,
      "outputs": []
    },
    {
      "cell_type": "markdown",
      "metadata": {
        "id": "riF-6-WauASj"
      },
      "source": [
        "# Color Detection Module"
      ]
    },
    {
      "cell_type": "code",
      "metadata": {
        "id": "lhaAg6FYuCaW"
      },
      "source": [
        "# Define red range\n",
        "lower_red = np.array([161, 155, 84])\n",
        "upper_red = np.array([179, 255, 255])\n",
        "\n",
        "# Define blue range\n",
        "lower_blue = np.array([94, 80, 2])\n",
        "upper_blue = np.array([126,255,255])\n",
        "\n",
        "# Define green range\n",
        "lower_green = np.array([25, 52, 72])\n",
        "upper_green = np.array([102, 255, 255])\n",
        "\n",
        "# Every color except white range\n",
        "lower = np.array([0, 42, 0])\n",
        "upper = np.array([179, 255, 255])"
      ],
      "execution_count": null,
      "outputs": []
    },
    {
      "cell_type": "code",
      "metadata": {
        "id": "rtCnR1JiyGWW"
      },
      "source": [
        "def color_detection(image):\n",
        "  hsv_img = cv2.cvtColor(image, cv2.COLOR_BGR2HSV) \n",
        "\n",
        "  # Define masks\n",
        "  red_mask = cv2.inRange(hsv_img, lower_red, upper_red)\n",
        "  blue_mask = cv2.inRange(hsv_img, lower_blue, upper_blue)\n",
        "  green_mask = cv2.inRange(hsv_img, lower_green, upper_green)\n",
        "  mask = cv2.inRange(hsv_img, lower, upper)\n",
        "  total_mask = red_mask + blue_mask + green_mask\n",
        "\n",
        "\n",
        "  # Apply color filtering\n",
        "  red = cv2.bitwise_and(image, image, mask = red_mask)\n",
        "  blue = cv2.bitwise_and(image, image, mask = blue_mask)\n",
        "  green = cv2.bitwise_and(image, image, mask = green_mask)\n",
        "  result = cv2.bitwise_and(image, image, mask = mask)\n",
        "  total = cv2.bitwise_and(image, image, mask = total_mask)\n",
        "  \n",
        "  final_img = red\n",
        "\n",
        "  return final_img"
      ],
      "execution_count": null,
      "outputs": []
    },
    {
      "cell_type": "markdown",
      "metadata": {
        "id": "lxWQY3q9qKKX"
      },
      "source": [
        "## In photos"
      ]
    },
    {
      "cell_type": "code",
      "metadata": {
        "id": "1XXY25-i766W"
      },
      "source": [
        "from IPython.display import Image\n",
        "try:\n",
        "  filename = take_photo()\n",
        "  print('Saved to {}'.format(filename))\n",
        "  \n",
        "  # Show the image which was just taken.\n",
        "  display(Image(filename))\n",
        "except Exception as err:\n",
        "  # Errors will be thrown if the user does not have a webcam or if they do not\n",
        "  # grant the page permission to access it.\n",
        "  print(str(err))"
      ],
      "execution_count": null,
      "outputs": []
    },
    {
      "cell_type": "markdown",
      "metadata": {
        "id": "RtDQrpHmqPye"
      },
      "source": [
        "## In videos"
      ]
    },
    {
      "cell_type": "markdown",
      "metadata": {
        "id": "PzeApedts00C"
      },
      "source": [
        "Configuration of the webcam to record videos"
      ]
    },
    {
      "cell_type": "code",
      "metadata": {
        "id": "5jfSQoGJM-pJ"
      },
      "source": [
        "# JavaScript to properly create our live video stream using our webcam as input\n",
        "def video_stream():\n",
        "  js = Javascript('''\n",
        "    var video;\n",
        "    var div = null;\n",
        "    var stream;\n",
        "    var captureCanvas;\n",
        "    var imgElement;\n",
        "    var labelElement;\n",
        "    \n",
        "    var pendingResolve = null;\n",
        "    var shutdown = false;\n",
        "    \n",
        "    function removeDom() {\n",
        "       stream.getVideoTracks()[0].stop();\n",
        "       video.remove();\n",
        "       div.remove();\n",
        "       video = null;\n",
        "       div = null;\n",
        "       stream = null;\n",
        "       imgElement = null;\n",
        "       captureCanvas = null;\n",
        "       labelElement = null;\n",
        "    }\n",
        "    \n",
        "    function onAnimationFrame() {\n",
        "      if (!shutdown) {\n",
        "        window.requestAnimationFrame(onAnimationFrame);\n",
        "      }\n",
        "      if (pendingResolve) {\n",
        "        var result = \"\";\n",
        "        if (!shutdown) {\n",
        "          captureCanvas.getContext('2d').drawImage(video, 0, 0, 640, 480);\n",
        "          result = captureCanvas.toDataURL('image/jpeg', 0.8)\n",
        "        }\n",
        "        var lp = pendingResolve;\n",
        "        pendingResolve = null;\n",
        "        lp(result);\n",
        "      }\n",
        "    }\n",
        "    \n",
        "    async function createDom() {\n",
        "      if (div !== null) {\n",
        "        return stream;\n",
        "      }\n",
        "\n",
        "      div = document.createElement('div');\n",
        "      div.style.border = '2px solid black';\n",
        "      div.style.padding = '3px';\n",
        "      div.style.width = '100%';\n",
        "      div.style.maxWidth = '600px';\n",
        "      document.body.appendChild(div);\n",
        "      \n",
        "      const modelOut = document.createElement('div');\n",
        "      modelOut.innerHTML = \"<span>Status:</span>\";\n",
        "      labelElement = document.createElement('span');\n",
        "      labelElement.innerText = 'No data';\n",
        "      labelElement.style.fontWeight = 'bold';\n",
        "      modelOut.appendChild(labelElement);\n",
        "      div.appendChild(modelOut);\n",
        "           \n",
        "      video = document.createElement('video');\n",
        "      video.style.display = 'block';\n",
        "      video.width = div.clientWidth - 6;\n",
        "      video.setAttribute('playsinline', '');\n",
        "      video.onclick = () => { shutdown = true; };\n",
        "      stream = await navigator.mediaDevices.getUserMedia(\n",
        "          {video: { facingMode: \"environment\"}});\n",
        "      div.appendChild(video);\n",
        "\n",
        "      imgElement = document.createElement('img');\n",
        "      imgElement.style.position = 'absolute';\n",
        "      imgElement.style.zIndex = 1;\n",
        "      imgElement.onclick = () => { shutdown = true; };\n",
        "      div.appendChild(imgElement);\n",
        "      \n",
        "      const instruction = document.createElement('div');\n",
        "      instruction.innerHTML = \n",
        "          '<span style=\"color: red; font-weight: bold;\">' +\n",
        "          'When finished, click here or on the video to stop this demo</span>';\n",
        "      div.appendChild(instruction);\n",
        "      instruction.onclick = () => { shutdown = true; };\n",
        "      \n",
        "      video.srcObject = stream;\n",
        "      await video.play();\n",
        "\n",
        "      captureCanvas = document.createElement('canvas');\n",
        "      captureCanvas.width = 640; //video.videoWidth;\n",
        "      captureCanvas.height = 480; //video.videoHeight;\n",
        "      window.requestAnimationFrame(onAnimationFrame);\n",
        "      \n",
        "      return stream;\n",
        "    }\n",
        "    async function stream_frame(label, imgData) {\n",
        "      if (shutdown) {\n",
        "        removeDom();\n",
        "        shutdown = false;\n",
        "        return '';\n",
        "      }\n",
        "\n",
        "      var preCreate = Date.now();\n",
        "      stream = await createDom();\n",
        "      \n",
        "      var preShow = Date.now();\n",
        "      if (label != \"\") {\n",
        "        labelElement.innerHTML = label;\n",
        "      }\n",
        "            \n",
        "      if (imgData != \"\") {\n",
        "        var videoRect = video.getClientRects()[0];\n",
        "        imgElement.style.top = videoRect.top + \"px\";\n",
        "        imgElement.style.left = videoRect.left + \"px\";\n",
        "        imgElement.style.width = videoRect.width + \"px\";\n",
        "        imgElement.style.height = videoRect.height + \"px\";\n",
        "        imgElement.src = imgData;\n",
        "      }\n",
        "      \n",
        "      var preCapture = Date.now();\n",
        "      var result = await new Promise(function(resolve, reject) {\n",
        "        pendingResolve = resolve;\n",
        "      });\n",
        "      shutdown = false;\n",
        "      \n",
        "      return {'create': preShow - preCreate, \n",
        "              'show': preCapture - preShow, \n",
        "              'capture': Date.now() - preCapture,\n",
        "              'img': result};\n",
        "    }\n",
        "    ''')\n",
        "\n",
        "  display(js)\n",
        "  \n",
        "def video_frame(label):\n",
        "  data = eval_js('stream_frame(\"{}\")'.format(label))\n",
        "  return data"
      ],
      "execution_count": null,
      "outputs": []
    },
    {
      "cell_type": "markdown",
      "metadata": {
        "id": "WzR02GUOs5Eu"
      },
      "source": [
        "Color detection with the webcam input"
      ]
    },
    {
      "cell_type": "code",
      "metadata": {
        "id": "2dHLHGF5tJlN"
      },
      "source": [
        "from IPython.display import clear_output \n",
        "\n",
        "# start streaming video from webcam\n",
        "video_stream()\n",
        "# label for video\n",
        "label_html = 'Capturing...'\n",
        "label_mask = 'Blue mask...'\n",
        "# initialze bounding box to empty\n",
        "while True:\n",
        "    js_reply = video_frame(label_html)\n",
        "    # convert JS response to OpenCV Image\n",
        "    img = js_to_image(js_reply[\"img\"])\n",
        "    result = color_detection(img)\n",
        "    cv2.imwrite(filename, result)\n",
        "    display(Image(filename))\n",
        "    clear_output()\n"
      ],
      "execution_count": null,
      "outputs": []
    },
    {
      "cell_type": "code",
      "metadata": {
        "id": "naTh9AaWT04B"
      },
      "source": [
        "from IPython.display import Image\n",
        "\n",
        "video_stream()\n",
        "label_mask = 'Blue mask...'\n",
        "js_reply = video_frame(label_mask)\n",
        "img = js_to_image(js_reply['img'])\n",
        "result = color_detection(img)\n",
        "# Show the image which was just taken.\n"
      ],
      "execution_count": null,
      "outputs": []
    }
  ]
}